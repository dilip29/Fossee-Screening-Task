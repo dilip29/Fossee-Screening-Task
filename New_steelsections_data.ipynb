{
 "cells": [
  {
   "cell_type": "code",
   "execution_count": 3,
   "metadata": {},
   "outputs": [],
   "source": [
    "import pandas\n"
   ]
  },
  {
   "cell_type": "code",
   "execution_count": 7,
   "metadata": {},
   "outputs": [
    {
     "name": "stdout",
     "output_type": "stream",
     "text": [
      "\t\t\tBeams data\n",
      "\n",
      "\n",
      "\n",
      "    Id        Designation    Mass   Area      D      B    tw     T  \\\n",
      "0   10  UB 203 x 133 x 25   25.10   32.0  203.0  133.2   5.7   7.8   \n",
      "1   11   WPB 100x100x20.4   20.44   26.0  100.0  100.0   6.0  10.0   \n",
      "2   12   WPB 100x100x41.8   41.79   53.2  120.0  106.0  12.0  20.0   \n",
      "3   13  WPB 450x300x171.1  171.11  218.0  450.0  300.0  14.0  26.0   \n",
      "4   14  WPB 700x300x149.9  149.89  190.9  670.0  300.0  13.0  17.0   \n",
      "5   15             MB 175   19.50   25.0  175.0   85.0   5.8   9.0   \n",
      "6   16  WPB 900x300x291.5  291.45  371.3  900.0  300.0  18.5  35.0   \n",
      "7   17             MB 550  104.00  132.0  550.0  190.0  11.2  19.3   \n",
      "8   18             MB 600  121.00  154.2  600.0  210.0  12.0  20.3   \n",
      "9   19   NPB 220x110x26.2   26.20   33.4  220.0  110.0   5.9   9.2   \n",
      "10  20   NPB 220x110x29.4   29.35   37.4  222.0  112.0   6.6  10.2   \n",
      "\n",
      "    FlangeSlope    R1    R2        Iz        Iy     rz    ry        Zz  \\\n",
      "0            90   7.6   0.0    2340.0    308.00   8.60  3.10    230.00   \n",
      "1            90   1.2   0.0     449.5    167.00   4.16  2.53     89.91   \n",
      "2            90   1.2   0.0    1142.6    398.70   4.63  2.74    190.44   \n",
      "3            90   2.7   0.0   79887.5  11713.96  19.14  7.33   3550.56   \n",
      "4            90   2.7   0.0  142720.5   7666.07  27.34  6.34   4260.31   \n",
      "5            98  10.0   5.0    1264.0     74.20   7.13  1.73    144.50   \n",
      "6            90   3.0   0.0  494064.6  15803.16  36.48  6.52  10979.21   \n",
      "7            98  18.0   9.0   64775.0   1766.00  22.20  3.70   2355.50   \n",
      "8            98  20.0  10.0   90248.0   2479.00  24.20  4.01   3008.30   \n",
      "9            90   1.2   0.0    2771.8    204.62   9.11  2.48    251.99   \n",
      "10           90   1.2   0.0    3134.1    239.54   9.16  2.53    282.35   \n",
      "\n",
      "         Zy       Zpz      Zpy     Source  \n",
      "0     46.00    258.00    70.90  IS808_Rev  \n",
      "1     33.40    104.21    51.42  IS808_Rev  \n",
      "2     75.23    235.81   116.31  IS808_Rev  \n",
      "3    780.93   3982.37  1197.66  IS808_Rev  \n",
      "4    511.07   4840.14   799.71  IS808_Rev  \n",
      "5     17.00    166.00    27.40  IS808_Rev  \n",
      "6   1053.54  12584.10  1658.34  IS808_Rev  \n",
      "7    186.00   2707.20   334.40  IS808_Rev  \n",
      "8    236.00   3454.60   427.40  IS808_Rev  \n",
      "9     37.20    285.41    58.11  IS808_Rev  \n",
      "10    42.77    321.15    66.91  IS808_Rev  \n"
     ]
    },
    {
     "name": "stderr",
     "output_type": "stream",
     "text": [
      "/home/dsp/.local/lib/python3.6/site-packages/pandas/io/excel.py:329: FutureWarning: The `sheetname` keyword is deprecated, use `sheet_name` instead\n",
      "  **kwds)\n"
     ]
    }
   ],
   "source": [
    "df1=pandas.read_excel(\"new_sections.xlsx\",sheetname=0)\n",
    "print(\"\\t\\t\\tBeams data\\n\\n\\n\")\n",
    "print(df1)"
   ]
  },
  {
   "cell_type": "code",
   "execution_count": null,
   "metadata": {},
   "outputs": [],
   "source": []
  },
  {
   "cell_type": "code",
   "execution_count": null,
   "metadata": {},
   "outputs": [],
   "source": []
  },
  {
   "cell_type": "code",
   "execution_count": 8,
   "metadata": {},
   "outputs": [
    {
     "name": "stdout",
     "output_type": "stream",
     "text": [
      "\t\t\t Angles data\n",
      "\n",
      "\n",
      "\n",
      "   Id    Designation  Mass   Area     AXB     t    R1   R2     Cz     Cy  \\\n",
      "0   7      30 20 X 3   1.1   1.41   30x20   3.0   4.5  NaN   0.98   0.54   \n",
      "1   8      45 30 X 3   1.7   2.18   45x30   3.0   5.0  NaN   1.42   0.74   \n",
      "2   9      60 40 X 8   5.8   7.37   60x40   8.0   6.0  NaN   2.07   1.12   \n",
      "3  10      75 50X 10   9.0  11.52   75x50  10.0   6.5  NaN   2.60   1.39   \n",
      "4  11  150 90 X X 15  26.6  33.90  150x90  15.0  11.0  4.8   5.21   2.27   \n",
      "5  12      80 80 x 6   7.3   9.29   80x80   6.0   8.0  NaN  21.80  21.80   \n",
      "\n",
      "     ...      Iv(min)    rz    ry  ru(max)  rv(min)    Zz     Zy     Zpz  \\\n",
      "0    ...         0.40  0.93  0.54     0.93     0.54   0.6   0.30    1.10   \n",
      "1    ...         1.50  1.43  0.84     1.44     0.83   1.5   0.70    2.60   \n",
      "2    ...         9.00  1.84  1.10     1.84     1.10   6.4   3.10   11.70   \n",
      "3    ...        22.10  2.31  1.38     2.30     1.38  12.5   6.00   22.90   \n",
      "4    ...       270.00  4.74  2.47     4.53     2.82  77.7  30.70  140.60   \n",
      "5    ...         2.46  2.46  3.10     1.58     9.70   9.6  17.57   17.57   \n",
      "\n",
      "         Zpy     Source  \n",
      "0        0.5  IS808_Rev  \n",
      "1        1.2  IS808_Rev  \n",
      "2        5.7  IS808_Rev  \n",
      "3       11.2  IS808_Rev  \n",
      "4       56.7  IS808_Rev  \n",
      "5  IS808_Rev        NaN  \n",
      "\n",
      "[6 rows x 24 columns]\n"
     ]
    },
    {
     "name": "stderr",
     "output_type": "stream",
     "text": [
      "/home/dsp/.local/lib/python3.6/site-packages/pandas/io/excel.py:329: FutureWarning: The `sheetname` keyword is deprecated, use `sheet_name` instead\n",
      "  **kwds)\n"
     ]
    }
   ],
   "source": [
    "df2=pandas.read_excel(\"new_sections.xlsx\",sheetname=1)\n",
    "print(\"\\t\\t\\t Angles data\\n\\n\\n\")\n",
    "print(df2)"
   ]
  },
  {
   "cell_type": "code",
   "execution_count": 11,
   "metadata": {},
   "outputs": [
    {
     "name": "stdout",
     "output_type": "stream",
     "text": [
      "\t\t\t Channels data\n",
      "\n",
      "\n",
      "\n",
      "   Id Designation  Mass   Area    D    B   tw     T  FlangeSlope    R1  \\\n",
      "0   7      JC 100   5.8   7.41  100   45  3.0   5.1         91.5   6.0   \n",
      "1   8      LC 400  45.8  58.30  400  100  8.0  14.0         96.0  14.0   \n",
      "2   9      MC 200  22.3  28.50  200   75  6.2  11.4         96.0  11.0   \n",
      "3  10     MCP 300  36.3  46.30  300   90  7.8  13.6         90.0  13.0   \n",
      "\n",
      "     ...        Cy       Iz     Iy     rz    ry     Zz    Zy    Zpz    Zpy  \\\n",
      "0    ...      1.40    124.0   14.9   4.09  1.42   24.8   4.8    NaN    NaN   \n",
      "1    ...      2.37  14000.0  462.0  15.50  2.81  701.0  60.5    NaN    NaN   \n",
      "2    ...      2.20   1830.0  140.0   8.02  2.22  183.0  26.3  212.6   50.7   \n",
      "3    ...      2.58   6420.0  352.0  11.78  2.76  428.0  54.8  502.5  100.1   \n",
      "\n",
      "      Source  \n",
      "0  IS808_Old  \n",
      "1  IS808_Old  \n",
      "2  IS808_Rev  \n",
      "3  IS808_Rev  \n",
      "\n",
      "[4 rows x 21 columns]\n"
     ]
    },
    {
     "name": "stderr",
     "output_type": "stream",
     "text": [
      "/home/dsp/.local/lib/python3.6/site-packages/pandas/io/excel.py:329: FutureWarning: The `sheetname` keyword is deprecated, use `sheet_name` instead\n",
      "  **kwds)\n"
     ]
    }
   ],
   "source": [
    "df1=pandas.read_excel(\"new_sections.xlsx\",sheetname=2)\n",
    "print(\"\\t\\t\\t Channels data\\n\\n\\n\")\n",
    "print(df3)"
   ]
  },
  {
   "cell_type": "code",
   "execution_count": null,
   "metadata": {},
   "outputs": [],
   "source": []
  },
  {
   "cell_type": "code",
   "execution_count": null,
   "metadata": {},
   "outputs": [],
   "source": []
  },
  {
   "cell_type": "code",
   "execution_count": null,
   "metadata": {},
   "outputs": [],
   "source": []
  }
 ],
 "metadata": {
  "kernelspec": {
   "display_name": "Python 3",
   "language": "python",
   "name": "python3"
  },
  "language_info": {
   "codemirror_mode": {
    "name": "ipython",
    "version": 3
   },
   "file_extension": ".py",
   "mimetype": "text/x-python",
   "name": "python",
   "nbconvert_exporter": "python",
   "pygments_lexer": "ipython3",
   "version": "3.6.7"
  }
 },
 "nbformat": 4,
 "nbformat_minor": 2
}
